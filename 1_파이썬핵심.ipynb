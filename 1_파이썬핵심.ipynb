{
  "nbformat": 4,
  "nbformat_minor": 0,
  "metadata": {
    "colab": {
      "provenance": [],
      "authorship_tag": "ABX9TyO60rxj6tddspIAJoR52UCu",
      "include_colab_link": true
    },
    "kernelspec": {
      "name": "python3",
      "display_name": "Python 3"
    },
    "language_info": {
      "name": "python"
    }
  },
  "cells": [
    {
      "cell_type": "markdown",
      "metadata": {
        "id": "view-in-github",
        "colab_type": "text"
      },
      "source": [
        "<a href=\"https://colab.research.google.com/github/eSeohyeon/Python_for_CV/blob/main/1_%ED%8C%8C%EC%9D%B4%EC%8D%AC%ED%95%B5%EC%8B%AC.ipynb\" target=\"_parent\"><img src=\"https://colab.research.google.com/assets/colab-badge.svg\" alt=\"Open In Colab\"/></a>"
      ]
    },
    {
      "cell_type": "code",
      "source": [
        "# 변수 선언 정수 : int\n",
        "a = 10\n",
        "\n",
        "# 부동 소수점 : float\n",
        "b = 3.14\n",
        "\n",
        "# 문자열\n",
        "s = \"Hello, World!\"\n",
        "\n",
        "# 정수와 부동 소수점의 원의 넓이를 계산하는 프로그램\n",
        "radius = 5\n",
        "pi = 3.14\n",
        "area = pi * radius ** 2\n",
        "print(area)"
      ],
      "metadata": {
        "colab": {
          "base_uri": "https://localhost:8080/"
        },
        "id": "V4BQbkycuoRU",
        "outputId": "37fae5cc-ae44-4779-e8ee-4f7e071cdaab"
      },
      "execution_count": 1,
      "outputs": [
        {
          "output_type": "stream",
          "name": "stdout",
          "text": [
            "78.5\n"
          ]
        }
      ]
    },
    {
      "cell_type": "code",
      "source": [
        "# format 메서드 예시\n",
        "name = \"Alice\"\n",
        "greeting = \"안녕하세요, {}!\".format(name) # 문자열 형식 지정\n",
        "print(greeting)"
      ],
      "metadata": {
        "colab": {
          "base_uri": "https://localhost:8080/"
        },
        "id": "X-mBA13fvGYw",
        "outputId": "7e7a4a36-3fa4-4508-e436-95abdb5fab4d"
      },
      "execution_count": 2,
      "outputs": [
        {
          "output_type": "stream",
          "name": "stdout",
          "text": [
            "안녕하세요, Alice!\n"
          ]
        }
      ]
    },
    {
      "cell_type": "code",
      "source": [
        "# 부울 타입 출력 예시\n",
        "number = -10\n",
        "is_positive = number > 0\n",
        "print(is_positive)"
      ],
      "metadata": {
        "colab": {
          "base_uri": "https://localhost:8080/"
        },
        "id": "sGUjvPYsvWW1",
        "outputId": "8268d7f7-5e13-41d7-ac97-1bb0a2dedb00"
      },
      "execution_count": 3,
      "outputs": [
        {
          "output_type": "stream",
          "name": "stdout",
          "text": [
            "False\n"
          ]
        }
      ]
    },
    {
      "cell_type": "code",
      "source": [
        "# if문\n",
        "a = 10\n",
        "if a>0:\n",
        "  print(\"a는 양수입니다.\")\n",
        "elif a<0:\n",
        "  print(\"a는 음수입니다.\")\n",
        "else:\n",
        "  print(\"a는 0입니다.\")"
      ],
      "metadata": {
        "colab": {
          "base_uri": "https://localhost:8080/"
        },
        "id": "tmnIOKSjvkmG",
        "outputId": "da368843-e5c8-48b5-e60f-edeefb0100c0"
      },
      "execution_count": 4,
      "outputs": [
        {
          "output_type": "stream",
          "name": "stdout",
          "text": [
            "a는 양수입니다.\n"
          ]
        }
      ]
    },
    {
      "cell_type": "code",
      "source": [
        "# for문\n",
        "n = 5\n",
        "factorial = 1\n",
        "for i in range(1, n+1):\n",
        "  factorial *= i\n",
        "print(factorial)"
      ],
      "metadata": {
        "colab": {
          "base_uri": "https://localhost:8080/"
        },
        "id": "fzhCyvyDwHbX",
        "outputId": "5a11cc31-2f00-4f46-d5da-9c5b6cacaaf9"
      },
      "execution_count": 5,
      "outputs": [
        {
          "output_type": "stream",
          "name": "stdout",
          "text": [
            "120\n"
          ]
        }
      ]
    },
    {
      "cell_type": "code",
      "source": [
        "# while문\n",
        "n = 10\n",
        "a, b = 0, 1\n",
        "while a<n:\n",
        "  print(a, end=' ')\n",
        "  a, b= b, a+b"
      ],
      "metadata": {
        "colab": {
          "base_uri": "https://localhost:8080/"
        },
        "id": "QCKFWHlcwdLY",
        "outputId": "ac15aee6-0b4d-4927-b049-5cc30810e6b7"
      },
      "execution_count": 6,
      "outputs": [
        {
          "output_type": "stream",
          "name": "stdout",
          "text": [
            "0 1 1 2 3 5 8 "
          ]
        }
      ]
    },
    {
      "cell_type": "code",
      "source": [
        "# try-exception문\n",
        "try:\n",
        "  print(x) #정상\n",
        "except:\n",
        "  print(\"예외가 발생했습니다\")\n",
        "finally:\n",
        "  print(\"try-except 블록이 완료되었습니다.\") # 오류 발생여부와 관계 없이 실행"
      ],
      "metadata": {
        "colab": {
          "base_uri": "https://localhost:8080/"
        },
        "id": "s0juYrhNw5F0",
        "outputId": "1ed9bf7a-42bd-4df5-c895-5f8174027fcc"
      },
      "execution_count": 7,
      "outputs": [
        {
          "output_type": "stream",
          "name": "stdout",
          "text": [
            "예외가 발생했습니다\n",
            "try-except 블록이 완료되었습니다.\n"
          ]
        }
      ]
    },
    {
      "cell_type": "code",
      "source": [
        "def greet():\n",
        "  print(\"hello, World!\")\n",
        "\n",
        "greet()"
      ],
      "metadata": {
        "colab": {
          "base_uri": "https://localhost:8080/"
        },
        "id": "qLejcivsxUxJ",
        "outputId": "9d2b23ba-4f97-49bf-b409-ba6e2c23b995"
      },
      "execution_count": 8,
      "outputs": [
        {
          "output_type": "stream",
          "name": "stdout",
          "text": [
            "hello, World!\n"
          ]
        }
      ]
    },
    {
      "cell_type": "code",
      "source": [
        "def greet(name):\n",
        "  print(f\"Hello, {name}!\")\n",
        "\n",
        "greet(\"Alice\")"
      ],
      "metadata": {
        "colab": {
          "base_uri": "https://localhost:8080/"
        },
        "id": "j9YAJ2Tkxgj1",
        "outputId": "6d87aadf-4ab9-4a9f-e8ea-4f08e1d97c85"
      },
      "execution_count": 9,
      "outputs": [
        {
          "output_type": "stream",
          "name": "stdout",
          "text": [
            "Hello, Alice!\n"
          ]
        }
      ]
    },
    {
      "cell_type": "code",
      "source": [
        "def square(number):\n",
        "  return number **2\n",
        "\n",
        "print(square(5))"
      ],
      "metadata": {
        "colab": {
          "base_uri": "https://localhost:8080/"
        },
        "id": "VSduOw0KxnwH",
        "outputId": "0ebc9eb7-c0ac-4e41-fdce-6504533f009f"
      },
      "execution_count": 10,
      "outputs": [
        {
          "output_type": "stream",
          "name": "stdout",
          "text": [
            "25\n"
          ]
        }
      ]
    },
    {
      "cell_type": "code",
      "source": [
        "def greet(name, greeting=\"Hello\"):\n",
        "  print(f\"{greeting}, {name}!\")\n",
        "\n",
        "greet(\"Jasmine\")\n",
        "greet(\"Bob\", \"Good Morning\")"
      ],
      "metadata": {
        "colab": {
          "base_uri": "https://localhost:8080/"
        },
        "id": "X47pJBC4xvYU",
        "outputId": "b74d5e63-741e-4d70-dd03-d523d054ef43"
      },
      "execution_count": 11,
      "outputs": [
        {
          "output_type": "stream",
          "name": "stdout",
          "text": [
            "Hello, Jasmine!\n",
            "Good Morning, Bob!\n"
          ]
        }
      ]
    },
    {
      "cell_type": "code",
      "source": [
        "# 클래스 기본형\n",
        "\n",
        "class Dog:\n",
        "  def __init__(self, name, breed, age):\n",
        "    self.name = name\n",
        "    self.breed = breed\n",
        "    self.age = age\n",
        "\n",
        "  def bark(self):\n",
        "    print(f\"{self.name} is barking!\")\n",
        "\n",
        "  def eat(self, food):\n",
        "    print(f\"{self.name} is eating the {food}!\")\n",
        "\n",
        "  def sleep(self):\n",
        "    print(f\"{self.name} is sleeping...\")\n",
        "\n",
        "my_dog = Dog(\"Archer\", \"German Shepherd\", 5)\n",
        "my_dog.bark()\n",
        "my_dog.eat(\"shark\")\n",
        "my_dog.sleep()"
      ],
      "metadata": {
        "colab": {
          "base_uri": "https://localhost:8080/"
        },
        "id": "jVkf4sPJyEbE",
        "outputId": "affb92fb-e451-4698-86d1-8fa352acd9eb"
      },
      "execution_count": 12,
      "outputs": [
        {
          "output_type": "stream",
          "name": "stdout",
          "text": [
            "Archer is barking!\n",
            "Archer is eating the shark!\n",
            "Archer is sleeping...\n"
          ]
        }
      ]
    },
    {
      "cell_type": "code",
      "source": [
        "class Car:\n",
        "  def __init__(self, make, model, year):\n",
        "    self.make = make\n",
        "    self.model =model\n",
        "    self.year = year\n",
        "    self.__mileage = 0 #private attribute\n",
        "\n",
        "  def drive(self, miles):\n",
        "    if miles>0:\n",
        "      self.__mileage += miles\n",
        "    else:\n",
        "      print(\"0보다 커야 합니다!\")\n",
        "\n",
        "    def get_mileage(self):\n",
        "      return self.__mileage\n",
        "\n",
        "# 상속\n",
        "\n",
        "class ElectricCar(Car):\n",
        "  def __init__(self, make, model, year, battery_size):\n",
        "    super().__init__(make, model, year) # Car의 init 함수 실행\n",
        "    self.battery_size = battery_size\n",
        "\n",
        "  def charge(self):\n",
        "    print(\"The car is charging\")\n"
      ],
      "metadata": {
        "id": "rxHvtkM_y7mE"
      },
      "execution_count": 13,
      "outputs": []
    },
    {
      "cell_type": "code",
      "source": [
        "# 다형성\n",
        "\n",
        "class Pet:\n",
        "  def make_sound(self):\n",
        "    pass\n",
        "\n",
        "class Dog(Pet):\n",
        "  def make_sound(self):\n",
        "    print(\"왈왈!\")\n",
        "\n",
        "class Cat(Pet):\n",
        "  def make_sound(self):\n",
        "    print(\"야옹~\")\n",
        "\n",
        "def pet_sound(pet: Pet):\n",
        "  pet.make_sound()\n",
        "\n",
        "dog = Dog()\n",
        "cat = Cat()\n",
        "\n",
        "pet_sound(dog)\n",
        "pet_sound(cat)"
      ],
      "metadata": {
        "colab": {
          "base_uri": "https://localhost:8080/"
        },
        "id": "XMKGkceO0Fgp",
        "outputId": "df729384-5407-4aac-c1e1-5f8357b65ca9"
      },
      "execution_count": 14,
      "outputs": [
        {
          "output_type": "stream",
          "name": "stdout",
          "text": [
            "왈왈!\n",
            "야옹~\n"
          ]
        }
      ]
    },
    {
      "cell_type": "code",
      "source": [
        "%%writefile math_operations.py\n",
        "\n",
        "def add(x,y):\n",
        "  return x+y\n",
        "\n",
        "def subtract(x, y):\n",
        "  return x-y\n",
        "\n",
        "def multiply(x, y):\n",
        "  return x*y\n",
        "\n",
        "def divide(x, y):\n",
        "  if y!=0:\n",
        "    return x/y\n",
        "  else:\n",
        "    print(\"에러 : 0으로 나눌 수 없습니다.\")\n",
        "\n",
        "# 더미 모듈 생성\n"
      ],
      "metadata": {
        "colab": {
          "base_uri": "https://localhost:8080/"
        },
        "id": "wpmYq7YT0nhh",
        "outputId": "68bcf64b-e6f0-4113-bbff-17d2ed1466cf"
      },
      "execution_count": 15,
      "outputs": [
        {
          "output_type": "stream",
          "name": "stdout",
          "text": [
            "Writing math_operations.py\n"
          ]
        }
      ]
    },
    {
      "cell_type": "code",
      "source": [
        "# 모듈\n",
        "import math_operations\n",
        "\n",
        "print(math_operations.add(5,3))\n",
        "print(math_operations.subtract(5,3))\n",
        "print(math_operations.multiply(5, 3))\n",
        "print(math_operations.divide(5,3))"
      ],
      "metadata": {
        "colab": {
          "base_uri": "https://localhost:8080/"
        },
        "id": "HEdA21F11E9W",
        "outputId": "0f1736e2-3f8d-4f14-e04c-3bb3f21db56c"
      },
      "execution_count": 17,
      "outputs": [
        {
          "output_type": "stream",
          "name": "stdout",
          "text": [
            "8\n",
            "2\n",
            "15\n",
            "1.6666666666666667\n"
          ]
        }
      ]
    },
    {
      "cell_type": "code",
      "source": [
        "!mkdir my_package\n",
        "!touch my_package/__init__.py\n",
        "!touch my_package/string_operations.py"
      ],
      "metadata": {
        "id": "5G9U6dUx1U7f"
      },
      "execution_count": 18,
      "outputs": []
    },
    {
      "cell_type": "code",
      "source": [
        "%%writefile my_package/math_operations.py\n",
        "\n",
        "def add(x,y):\n",
        "  return x+y\n",
        "\n",
        "def subtract(x,y):\n",
        "  return x-y\n",
        "\n",
        "def multiply(x,y):\n",
        "  return x*y\n",
        "\n",
        "def divide(x,y):\n",
        "  if y!=0:\n",
        "    return x/y\n",
        "  else:\n",
        "    print(\"에러 : 0으로 나눌 수 없습니다.\")"
      ],
      "metadata": {
        "colab": {
          "base_uri": "https://localhost:8080/"
        },
        "id": "TYSCLII71sxn",
        "outputId": "d27ea905-1dc7-4b04-c6b3-45a09cf9f2f2"
      },
      "execution_count": 19,
      "outputs": [
        {
          "output_type": "stream",
          "name": "stdout",
          "text": [
            "Writing my_package/math_operations.py\n"
          ]
        }
      ]
    },
    {
      "cell_type": "code",
      "source": [
        "#  패키지\n",
        "from my_package import math_operations, string_operations\n",
        "\n",
        "print(math_operations.add(10,10))"
      ],
      "metadata": {
        "colab": {
          "base_uri": "https://localhost:8080/"
        },
        "id": "xQubrXsW2FRf",
        "outputId": "b462c83a-45b9-4cc9-ea45-16e0f8089bba"
      },
      "execution_count": 21,
      "outputs": [
        {
          "output_type": "stream",
          "name": "stdout",
          "text": [
            "20\n"
          ]
        }
      ]
    },
    {
      "cell_type": "code",
      "source": [],
      "metadata": {
        "id": "kbsmQa802UTX"
      },
      "execution_count": null,
      "outputs": []
    }
  ]
}